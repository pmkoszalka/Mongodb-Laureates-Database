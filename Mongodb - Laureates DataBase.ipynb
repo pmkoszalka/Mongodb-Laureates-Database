{
 "cells": [
  {
   "cell_type": "code",
   "execution_count": 1,
   "id": "82a1feaf",
   "metadata": {},
   "outputs": [],
   "source": [
    "import datetime\n",
    "from pymongo import MongoClient\n",
    "import requests"
   ]
  },
  {
   "cell_type": "code",
   "execution_count": 2,
   "id": "0c0d4323",
   "metadata": {},
   "outputs": [],
   "source": [
    "client = MongoClient('localhost', 27017)\n",
    "db = client[\"nobel\"]"
   ]
  },
  {
   "cell_type": "code",
   "execution_count": 3,
   "id": "abfe18bf",
   "metadata": {},
   "outputs": [],
   "source": [
    "# for collection_name in [\"prizes\", \"laureates\"]:\n",
    "#     response = requests.get(\"http://api.nobelprize.org/v1/{}.json\".format(collection_name[:-1] ))\n",
    "#     documents = response.json()[collection_name]\n",
    "#     db[collection_name].insert_many(documents)"
   ]
  },
  {
   "cell_type": "code",
   "execution_count": 4,
   "id": "adf4e810",
   "metadata": {},
   "outputs": [],
   "source": [
    "# db.prizes.drop()\n",
    "# db.laureates.drop()"
   ]
  },
  {
   "cell_type": "markdown",
   "id": "38d1a783",
   "metadata": {},
   "source": [
    "Prizes collection"
   ]
  },
  {
   "cell_type": "code",
   "execution_count": 5,
   "id": "81b84865",
   "metadata": {},
   "outputs": [
    {
     "name": "stdout",
     "output_type": "stream",
     "text": [
      "Prizes collection:\n",
      "{'_id': ObjectId('6238db184fafdb6f26002856'), 'year': '2021', 'category': 'chemistry', 'laureates': [{'id': '1002', 'firstname': 'Benjamin', 'surname': 'List', 'motivation': '\"for the development of asymmetric organocatalysis\"', 'share': '2'}, {'id': '1003', 'firstname': 'David', 'surname': 'MacMillan', 'motivation': '\"for the development of asymmetric organocatalysis\"', 'share': '2'}]}\n"
     ]
    }
   ],
   "source": [
    "print('Prizes collection:')\n",
    "print(db.prizes.find_one())"
   ]
  },
  {
   "cell_type": "markdown",
   "id": "ae6a5758",
   "metadata": {},
   "source": [
    "Laureates collection"
   ]
  },
  {
   "cell_type": "code",
   "execution_count": 6,
   "id": "17e38722",
   "metadata": {},
   "outputs": [
    {
     "name": "stdout",
     "output_type": "stream",
     "text": [
      "Laureates collection:\n",
      "{'_id': ObjectId('6238db184fafdb6f26002ae8'), 'id': '1', 'firstname': 'Wilhelm Conrad', 'surname': 'Röntgen', 'born': '1845-03-27', 'died': '1923-02-10', 'bornCountry': 'Prussia (now Germany)', 'bornCountryCode': 'DE', 'bornCity': 'Lennep (now Remscheid)', 'diedCountry': 'Germany', 'diedCountryCode': 'DE', 'diedCity': 'Munich', 'gender': 'male', 'prizes': [{'year': '1901', 'category': 'physics', 'share': '1', 'motivation': '\"in recognition of the extraordinary services he has rendered by the discovery of the remarkable rays subsequently named after him\"', 'affiliations': [{'name': 'Munich University', 'city': 'Munich', 'country': 'Germany'}]}]}\n"
     ]
    }
   ],
   "source": [
    "print('Laureates collection:')\n",
    "print(db.laureates.find_one())"
   ]
  },
  {
   "cell_type": "code",
   "execution_count": 7,
   "id": "6bc1c870",
   "metadata": {},
   "outputs": [
    {
     "name": "stdout",
     "output_type": "stream",
     "text": [
      "658\n",
      "968\n"
     ]
    }
   ],
   "source": [
    "print(db.prizes.count_documents({}))\n",
    "print(db.laureates.count_documents({}))"
   ]
  },
  {
   "cell_type": "code",
   "execution_count": 8,
   "id": "45c9aa4a",
   "metadata": {},
   "outputs": [
    {
     "name": "stdout",
     "output_type": "stream",
     "text": [
      "['chemistry', 'economics', 'literature', 'medicine', 'peace', 'physics']\n"
     ]
    }
   ],
   "source": [
    "print(db.prizes.distinct('category'))"
   ]
  },
  {
   "cell_type": "markdown",
   "id": "67950919",
   "metadata": {},
   "source": [
    "Lets look at nobel price winners born in Poland"
   ]
  },
  {
   "cell_type": "code",
   "execution_count": 9,
   "id": "4d407a03",
   "metadata": {},
   "outputs": [
    {
     "name": "stdout",
     "output_type": "stream",
     "text": [
      "{'firstname': 'Marie', 'surname': 'Curie', 'bornCountry': 'Russian Empire (now Poland)'}\n",
      "{'firstname': 'Albert A.', 'surname': 'Michelson', 'bornCountry': 'Prussia (now Poland)'}\n",
      "{'firstname': 'Otto', 'surname': 'Stern', 'bornCountry': 'Germany (now Poland)'}\n",
      "{'firstname': 'Isidor Isaac', 'surname': 'Rabi', 'bornCountry': 'Austria-Hungary (now Poland)'}\n",
      "{'firstname': 'Max', 'surname': 'Born', 'bornCountry': 'Germany (now Poland)'}\n",
      "{'firstname': 'Maria', 'surname': 'Goeppert Mayer', 'bornCountry': 'Germany (now Poland)'}\n",
      "{'firstname': 'Klaus', 'surname': 'von Klitzing', 'bornCountry': 'German-occupied Poland (now Poland)'}\n",
      "{'firstname': 'Georges', 'surname': 'Charpak', 'bornCountry': 'Poland'}\n",
      "{'firstname': 'Fritz', 'surname': 'Haber', 'bornCountry': 'Prussia (now Poland)'}\n",
      "{'firstname': 'Walther', 'surname': 'Nernst', 'bornCountry': 'Prussia (now Poland)'}\n",
      "{'firstname': 'Friedrich', 'surname': 'Bergius', 'bornCountry': 'Germany (now Poland)'}\n",
      "{'firstname': 'Kurt', 'surname': 'Alder', 'bornCountry': 'Prussia (now Poland)'}\n",
      "{'firstname': 'Roald', 'surname': 'Hoffmann', 'bornCountry': 'Poland (now Ukraine)'}\n",
      "{'firstname': 'Emil', 'surname': 'von Behring', 'bornCountry': 'Prussia (now Poland)'}\n",
      "{'firstname': 'Paul', 'surname': 'Ehrlich', 'bornCountry': 'Prussia (now Poland)'}\n",
      "{'firstname': 'Gerhard', 'surname': 'Domagk', 'bornCountry': 'Germany (now Poland)'}\n",
      "{'firstname': 'Tadeus', 'surname': 'Reichstein', 'bornCountry': 'Poland'}\n",
      "{'firstname': 'Konrad', 'surname': 'Bloch', 'bornCountry': 'Germany (now Poland)'}\n",
      "{'firstname': 'Andrew V.', 'surname': 'Schally', 'bornCountry': 'Poland (now Lithuania)'}\n",
      "{'firstname': 'Günter', 'surname': 'Blobel', 'bornCountry': 'Germany (now Poland)'}\n",
      "{'firstname': 'Lech', 'surname': 'Walesa', 'bornCountry': 'Poland'}\n",
      "{'firstname': 'Shimon', 'surname': 'Peres', 'bornCountry': 'Poland (now Belarus)'}\n",
      "{'firstname': 'Joseph', 'surname': 'Rotblat', 'bornCountry': 'Russian Empire (now Poland)'}\n",
      "{'firstname': 'Henryk', 'surname': 'Sienkiewicz', 'bornCountry': 'Poland'}\n",
      "{'firstname': 'Gerhart', 'surname': 'Hauptmann', 'bornCountry': 'Prussia (now Poland)'}\n",
      "{'firstname': 'Wladyslaw', 'surname': 'Reymont', 'bornCountry': 'Russian Empire (now Poland)'}\n",
      "{'firstname': 'Isaac Bashevis', 'surname': 'Singer', 'bornCountry': 'Russian Empire (now Poland)'}\n",
      "{'firstname': 'Wislawa', 'surname': 'Szymborska', 'bornCountry': 'Poland'}\n",
      "{'firstname': 'Günter', 'surname': 'Grass', 'bornCountry': 'Free City of Danzig (now Poland)'}\n",
      "{'firstname': 'Reinhard', 'surname': 'Selten', 'bornCountry': 'Germany (now Poland)'}\n",
      "{'firstname': 'Olga', 'surname': 'Tokarczuk', 'bornCountry': 'Poland'}\n"
     ]
    }
   ],
   "source": [
    "born_country_poland = db.laureates.find({'bornCountry': {'$regex': 'Poland'}},  {'firstname': 1, 'surname': 1, 'bornCountry': 1, '_id': 0})\n",
    "\n",
    "for bcp in born_country_poland:\n",
    "    print(bcp)"
   ]
  },
  {
   "cell_type": "markdown",
   "id": "bc7b36c4",
   "metadata": {},
   "source": [
    "Lets see what countries could be found if we filter country of birth by regex expression: Poland"
   ]
  },
  {
   "cell_type": "code",
   "execution_count": 10,
   "id": "a3b4e586",
   "metadata": {},
   "outputs": [
    {
     "name": "stdout",
     "output_type": "stream",
     "text": [
      "Austria-Hungary (now Poland)\n",
      "Free City of Danzig (now Poland)\n",
      "German-occupied Poland (now Poland)\n",
      "Germany (now Poland)\n",
      "Poland\n",
      "Poland (now Belarus)\n",
      "Poland (now Lithuania)\n",
      "Poland (now Ukraine)\n",
      "Prussia (now Poland)\n",
      "Russian Empire (now Poland)\n"
     ]
    }
   ],
   "source": [
    "born_country_poland = db.laureates.distinct(key='bornCountry', filter = {'bornCountry': {'$regex': 'Poland'}})\n",
    "\n",
    "for bcp in born_country_poland:\n",
    "    print(bcp)"
   ]
  },
  {
   "cell_type": "markdown",
   "id": "8d0aafa2",
   "metadata": {},
   "source": [
    "Now lets try to find nobel laureates only born in Poland or in Poland but now different country"
   ]
  },
  {
   "cell_type": "code",
   "execution_count": 11,
   "id": "15ab1572",
   "metadata": {},
   "outputs": [
    {
     "name": "stdout",
     "output_type": "stream",
     "text": [
      "{'firstname': 'Georges', 'surname': 'Charpak', 'bornCountry': 'Poland', 'prizes': [{'category': 'physics'}]}\n",
      "{'firstname': 'Roald', 'surname': 'Hoffmann', 'bornCountry': 'Poland (now Ukraine)', 'prizes': [{'category': 'chemistry'}]}\n",
      "{'firstname': 'Tadeus', 'surname': 'Reichstein', 'bornCountry': 'Poland', 'prizes': [{'category': 'medicine'}]}\n",
      "{'firstname': 'Andrew V.', 'surname': 'Schally', 'bornCountry': 'Poland (now Lithuania)', 'prizes': [{'category': 'medicine'}]}\n",
      "{'firstname': 'Lech', 'surname': 'Walesa', 'bornCountry': 'Poland', 'prizes': [{'category': 'peace'}]}\n",
      "{'firstname': 'Shimon', 'surname': 'Peres', 'bornCountry': 'Poland (now Belarus)', 'prizes': [{'category': 'peace'}]}\n",
      "{'firstname': 'Henryk', 'surname': 'Sienkiewicz', 'bornCountry': 'Poland', 'prizes': [{'category': 'literature'}]}\n",
      "{'firstname': 'Wislawa', 'surname': 'Szymborska', 'bornCountry': 'Poland', 'prizes': [{'category': 'literature'}]}\n",
      "{'firstname': 'Olga', 'surname': 'Tokarczuk', 'bornCountry': 'Poland', 'prizes': [{'category': 'literature'}]}\n"
     ]
    }
   ],
   "source": [
    "born_country_poland = db.laureates.find({'bornCountry': {'$regex': '^Poland'}},  {'firstname': 1, 'surname': 1, 'prizes.category':1, 'bornCountry': 1, '_id': 0})\n",
    "\n",
    "for bcp in born_country_poland:\n",
    "    print(bcp)"
   ]
  },
  {
   "cell_type": "code",
   "execution_count": 12,
   "id": "7a225873",
   "metadata": {},
   "outputs": [
    {
     "name": "stdout",
     "output_type": "stream",
     "text": [
      "{'firstname': 'Georges', 'surname': 'Charpak', 'prizes': [{'share': '1'}]}\n",
      "{'firstname': 'Roald', 'surname': 'Hoffmann', 'prizes': [{'share': '2'}]}\n",
      "{'firstname': 'Tadeus', 'surname': 'Reichstein', 'prizes': [{'share': '3'}]}\n",
      "{'firstname': 'Andrew V.', 'surname': 'Schally', 'prizes': [{'share': '4'}]}\n",
      "{'firstname': 'Lech', 'surname': 'Walesa', 'prizes': [{'share': '1'}]}\n",
      "{'firstname': 'Shimon', 'surname': 'Peres', 'prizes': [{'share': '3'}]}\n",
      "{'firstname': 'Henryk', 'surname': 'Sienkiewicz', 'prizes': [{'share': '1'}]}\n",
      "{'firstname': 'Wislawa', 'surname': 'Szymborska', 'prizes': [{'share': '1'}]}\n",
      "{'firstname': 'Olga', 'surname': 'Tokarczuk', 'prizes': [{'share': '1'}]}\n"
     ]
    }
   ],
   "source": [
    "polish_laureates_share = db.laureates.find({'bornCountry': {'$regex': '^Poland'}},  {'firstname': 1, 'surname': 1, 'prizes.share': 1, '_id': 0})\n",
    "\n",
    "for share in polish_laureates_share:\n",
    "    print(share)\n"
   ]
  },
  {
   "cell_type": "markdown",
   "id": "976d5447",
   "metadata": {},
   "source": [
    "Lets see polish nobel laureates that shared the price!"
   ]
  },
  {
   "cell_type": "code",
   "execution_count": 13,
   "id": "0535a343",
   "metadata": {},
   "outputs": [],
   "source": [
    "pipeline1 = [{'$match': {'bornCountry': {'$regex': '^Poland'}, 'prizes.share': {'$gt': '1'}}}]\n",
    "pipeline2 = [{'$match': {'bornCountry': {'$regex': '^Poland'}, 'prizes.share': {'$gt': '1'}}},\n",
    "            {'$project': {'firstname': 1, 'surname': 1, 'prizes.share': 1, '_id': 0}}]"
   ]
  },
  {
   "cell_type": "code",
   "execution_count": 14,
   "id": "b8fc0646",
   "metadata": {},
   "outputs": [
    {
     "name": "stdout",
     "output_type": "stream",
     "text": [
      "{'_id': ObjectId('6238db184fafdb6f26002be4'), 'id': '258', 'firstname': 'Roald', 'surname': 'Hoffmann', 'born': '1937-07-18', 'died': '0000-00-00', 'bornCountry': 'Poland (now Ukraine)', 'bornCountryCode': 'UA', 'bornCity': 'Zloczov', 'gender': 'male', 'prizes': [{'year': '1981', 'category': 'chemistry', 'share': '2', 'motivation': '\"for their theories, developed independently, concerning the course of chemical reactions\"', 'affiliations': [{'name': 'Cornell University', 'city': 'Ithaca, NY', 'country': 'USA'}]}]}\n",
      "{'_id': ObjectId('6238db184fafdb6f26002c40'), 'id': '350', 'firstname': 'Tadeus', 'surname': 'Reichstein', 'born': '1897-07-20', 'died': '1996-08-01', 'bornCountry': 'Poland', 'bornCountryCode': 'PL', 'bornCity': 'Wloclawek', 'diedCountry': 'Switzerland', 'diedCountryCode': 'CH', 'diedCity': 'Basel', 'gender': 'male', 'prizes': [{'year': '1950', 'category': 'medicine', 'share': '3', 'motivation': '\"for their discoveries relating to the hormones of the adrenal cortex, their structure and biological effects\"', 'affiliations': [{'name': 'Basel University', 'city': 'Basel', 'country': 'Switzerland'}]}]}\n",
      "{'_id': ObjectId('6238db184fafdb6f26002c7e'), 'id': '412', 'firstname': 'Andrew V.', 'surname': 'Schally', 'born': '1926-11-30', 'died': '0000-00-00', 'bornCountry': 'Poland (now Lithuania)', 'bornCountryCode': 'LT', 'bornCity': 'Wilno (now Vilnius)', 'gender': 'male', 'prizes': [{'year': '1977', 'category': 'medicine', 'share': '4', 'motivation': '\"for their discoveries concerning the peptide hormone production of the brain\"', 'affiliations': [{'name': 'Veterans Administration Hospital', 'city': 'New Orleans, LA', 'country': 'USA'}]}]}\n",
      "{'_id': ObjectId('6238db184fafdb6f26002d0b'), 'id': '558', 'firstname': 'Shimon', 'surname': 'Peres', 'born': '1923-08-16', 'died': '2016-09-28', 'bornCountry': 'Poland (now Belarus)', 'bornCountryCode': 'BY', 'bornCity': 'Vishneva', 'diedCountry': 'Israel', 'diedCountryCode': 'IL', 'diedCity': 'Tel Aviv', 'gender': 'male', 'prizes': [{'year': '1994', 'category': 'peace', 'share': '3', 'motivation': '\"for their efforts to create peace in the Middle East\"', 'affiliations': [[]]}]}\n"
     ]
    }
   ],
   "source": [
    "polish_laureates_share = db.laureates.aggregate(pipeline1)\n",
    "\n",
    "for share in polish_laureates_share:\n",
    "    print(share)"
   ]
  },
  {
   "cell_type": "code",
   "execution_count": 15,
   "id": "f0056dc7",
   "metadata": {},
   "outputs": [
    {
     "name": "stdout",
     "output_type": "stream",
     "text": [
      "{'firstname': 'Roald', 'surname': 'Hoffmann', 'prizes': [{'share': '2'}]}\n",
      "{'firstname': 'Tadeus', 'surname': 'Reichstein', 'prizes': [{'share': '3'}]}\n",
      "{'firstname': 'Andrew V.', 'surname': 'Schally', 'prizes': [{'share': '4'}]}\n",
      "{'firstname': 'Shimon', 'surname': 'Peres', 'prizes': [{'share': '3'}]}\n"
     ]
    }
   ],
   "source": [
    "polish_laureates_share = db.laureates.aggregate(pipeline2)\n",
    "\n",
    "for share in polish_laureates_share:\n",
    "    print(share)"
   ]
  },
  {
   "cell_type": "markdown",
   "id": "28004fa4",
   "metadata": {},
   "source": [
    "It seems like people who won nobel prize together have the same motivation field, lets explore this"
   ]
  },
  {
   "cell_type": "code",
   "execution_count": 16,
   "id": "cb54ce7c",
   "metadata": {},
   "outputs": [
    {
     "name": "stdout",
     "output_type": "stream",
     "text": [
      "['\"for their theories, developed independently, concerning the course of chemical reactions\"', '\"for their discoveries relating to the hormones of the adrenal cortex, their structure and biological effects\"', '\"for their discoveries concerning the peptide hormone production of the brain\"', '\"for their efforts to create peace in the Middle East\"']\n"
     ]
    }
   ],
   "source": [
    "pipeline = [{'$match': {'bornCountry': {'$regex': '^Poland'}, 'prizes.share': {'$gt': '1'}}},\n",
    "            {'$project': {'prizes.motivation': 1, '_id': 0}}]\n",
    "\n",
    "cursor = db.laureates.aggregate(pipeline)\n",
    "\n",
    "motivations = []\n",
    "\n",
    "for document in cursor:\n",
    "    for prize in document['prizes']:\n",
    "        motivations.append(prize['motivation'])\n",
    "\n",
    "print(motivations)"
   ]
  },
  {
   "cell_type": "markdown",
   "id": "f58ac9c8",
   "metadata": {},
   "source": [
    "We got the motivations stored now lets find all the people with those motivations"
   ]
  },
  {
   "cell_type": "code",
   "execution_count": 17,
   "id": "1d4ae3d7",
   "metadata": {},
   "outputs": [
    {
     "name": "stdout",
     "output_type": "stream",
     "text": [
      "\n",
      "The laureates of shared nobel prize:\n",
      "\n",
      "{'firstname': 'Kenichi', 'surname': 'Fukui', 'bornCountry': 'Japan', 'prizes': [{'share': '2', 'motivation': '\"for their theories, developed independently, concerning the course of chemical reactions\"'}]}\n",
      "{'firstname': 'Roald', 'surname': 'Hoffmann', 'bornCountry': 'Poland (now Ukraine)', 'prizes': [{'share': '2', 'motivation': '\"for their theories, developed independently, concerning the course of chemical reactions\"'}]}\n",
      "\n",
      "The laureates of shared nobel prize:\n",
      "\n",
      "{'firstname': 'Edward C.', 'surname': 'Kendall', 'bornCountry': 'USA', 'prizes': [{'share': '3', 'motivation': '\"for their discoveries relating to the hormones of the adrenal cortex, their structure and biological effects\"'}]}\n",
      "{'firstname': 'Tadeus', 'surname': 'Reichstein', 'bornCountry': 'Poland', 'prizes': [{'share': '3', 'motivation': '\"for their discoveries relating to the hormones of the adrenal cortex, their structure and biological effects\"'}]}\n",
      "{'firstname': 'Philip S.', 'surname': 'Hench', 'bornCountry': 'USA', 'prizes': [{'share': '3', 'motivation': '\"for their discoveries relating to the hormones of the adrenal cortex, their structure and biological effects\"'}]}\n",
      "\n",
      "The laureates of shared nobel prize:\n",
      "\n",
      "{'firstname': 'Roger', 'surname': 'Guillemin', 'bornCountry': 'France', 'prizes': [{'share': '4', 'motivation': '\"for their discoveries concerning the peptide hormone production of the brain\"'}]}\n",
      "{'firstname': 'Andrew V.', 'surname': 'Schally', 'bornCountry': 'Poland (now Lithuania)', 'prizes': [{'share': '4', 'motivation': '\"for their discoveries concerning the peptide hormone production of the brain\"'}]}\n",
      "\n",
      "The laureates of shared nobel prize:\n",
      "\n",
      "{'firstname': 'Yasser', 'surname': 'Arafat', 'bornCountry': 'Egypt', 'prizes': [{'share': '3', 'motivation': '\"for their efforts to create peace in the Middle East\"'}]}\n",
      "{'firstname': 'Shimon', 'surname': 'Peres', 'bornCountry': 'Poland (now Belarus)', 'prizes': [{'share': '3', 'motivation': '\"for their efforts to create peace in the Middle East\"'}]}\n",
      "{'firstname': 'Yitzhak', 'surname': 'Rabin', 'bornCountry': 'British Mandate of Palestine (now Israel)', 'prizes': [{'share': '3', 'motivation': '\"for their efforts to create peace in the Middle East\"'}]}\n"
     ]
    }
   ],
   "source": [
    "for motivation in motivations:\n",
    "    pipeline = [{'$match': {'prizes.motivation': motivation}},\n",
    "                {'$project':\n",
    "                     {'firstname': 1, 'surname': 1, 'bornCountry':1, 'prizes.share':1, 'prizes.motivation':1, '_id': 0}}]\n",
    "    cursor = db.laureates.aggregate(pipeline)\n",
    "\n",
    "    print('')\n",
    "    print('The laureates of shared nobel prize:')\n",
    "    print('')\n",
    "\n",
    "    for document in cursor:\n",
    "        print(document)\n"
   ]
  },
  {
   "cell_type": "markdown",
   "id": "c59e6d54",
   "metadata": {},
   "source": [
    "Which of the polish laureates are still alive"
   ]
  },
  {
   "cell_type": "code",
   "execution_count": 18,
   "id": "06b82c32",
   "metadata": {},
   "outputs": [
    {
     "name": "stdout",
     "output_type": "stream",
     "text": [
      "Which of the polish laureates are still alive\n",
      "\n",
      "{'firstname': 'Roald', 'surname': 'Hoffmann', 'bornCountry': 'Poland (now Ukraine)'}\n",
      "{'firstname': 'Andrew V.', 'surname': 'Schally', 'bornCountry': 'Poland (now Lithuania)'}\n",
      "{'firstname': 'Lech', 'surname': 'Walesa', 'bornCountry': 'Poland'}\n",
      "{'firstname': 'Olga', 'surname': 'Tokarczuk', 'bornCountry': 'Poland'}\n"
     ]
    }
   ],
   "source": [
    "print('Which of the polish laureates are still alive')\n",
    "print('')\n",
    "\n",
    "pipeline = [{'$match': {'bornCountry': {'$regex': '^Poland'}, 'died': {'$eq': '0000-00-00'}}},\n",
    "            {'$project':\n",
    "                 {'firstname': 1, 'surname': 1, 'bornCountry': 1, '_id': 0}}]\n",
    "cursor = db.laureates.aggregate(pipeline)\n",
    "\n",
    "for document in cursor:\n",
    "    print(document)"
   ]
  },
  {
   "cell_type": "markdown",
   "id": "848f9c86",
   "metadata": {},
   "source": [
    "What is the age of the living polish nobel laureates?"
   ]
  },
  {
   "cell_type": "code",
   "execution_count": 19,
   "id": "40bda0a2",
   "metadata": {},
   "outputs": [
    {
     "name": "stdout",
     "output_type": "stream",
     "text": [
      "What is the age of the living polish nobel laureates?\n",
      "\n",
      "{'firstname': 'Roald', 'surname': 'Hoffmann', 'bornCountry': 'Poland (now Ukraine)', 'age': 84.0}\n",
      "{'firstname': 'Andrew V.', 'surname': 'Schally', 'bornCountry': 'Poland (now Lithuania)', 'age': 95.0}\n",
      "{'firstname': 'Lech', 'surname': 'Walesa', 'bornCountry': 'Poland', 'age': 78.0}\n",
      "{'firstname': 'Olga', 'surname': 'Tokarczuk', 'bornCountry': 'Poland', 'age': 60.0}\n"
     ]
    }
   ],
   "source": [
    "print('What is the age of the living polish nobel laureates?')\n",
    "print('')\n",
    "\n",
    "now = datetime.datetime.now()\n",
    "current_time = now.strftime('%Y-%m-%d')\n",
    "\n",
    "\n",
    "pipeline = [{'$match': {'bornCountry': {'$regex': '^Poland'}, 'died': '0000-00-00'}},\n",
    "            {'$addFields': {'today': {'$dateFromString': {'dateString': current_time}}, 'born_date': {'$dateFromString': {'dateString': '$born'}}}},\n",
    "            {'$project': {'firstname': 1, 'surname': 1, 'bornCountry': 1, '_id': 0, 'age': {'$floor': {'$divide': [{'$subtract': ['$today', '$born_date']}, 31557600000]}}}}]\n",
    "cursor = db.laureates.aggregate(pipeline)\n",
    "\n",
    "for document in cursor:\n",
    "    print(document)\n"
   ]
  },
  {
   "cell_type": "code",
   "execution_count": 20,
   "id": "6cbf56b0",
   "metadata": {},
   "outputs": [
    {
     "name": "stdout",
     "output_type": "stream",
     "text": [
      "How many years did polish nobel laureates live?\n",
      "\n",
      "{'firstname': 'Georges', 'surname': 'Charpak', 'bornCountry': 'Poland', 'age': 86.0}\n",
      "{'firstname': 'Tadeus', 'surname': 'Reichstein', 'bornCountry': 'Poland', 'age': 99.0}\n",
      "{'firstname': 'Shimon', 'surname': 'Peres', 'bornCountry': 'Poland (now Belarus)', 'age': 93.0}\n",
      "{'firstname': 'Henryk', 'surname': 'Sienkiewicz', 'bornCountry': 'Poland', 'age': 70.0}\n",
      "{'firstname': 'Wislawa', 'surname': 'Szymborska', 'bornCountry': 'Poland', 'age': 88.0}\n"
     ]
    }
   ],
   "source": [
    "print('How many years did polish nobel laureates live?')\n",
    "print('')\n",
    "\n",
    "pipeline = [{'$match': {'bornCountry': {'$regex': '^Poland'}, 'died': {'$ne': '0000-00-00'}}},\n",
    "            {'$addFields': {'died_date': {'$dateFromString': {'dateString': '$died'}}, 'born_date': {'$dateFromString': {'dateString': '$born'}}}},\n",
    "            {'$project': {'firstname': 1, 'surname': 1, 'bornCountry': 1, '_id': 0, 'age': {'$floor': {'$divide': [{'$subtract': ['$died_date', '$born_date']}, 31557600000]}}}}]\n",
    "cursor = db.laureates.aggregate(pipeline)\n",
    "\n",
    "for document in cursor:\n",
    "    print(document)\n"
   ]
  },
  {
   "cell_type": "code",
   "execution_count": 21,
   "id": "0a7d8907",
   "metadata": {},
   "outputs": [
    {
     "name": "stdout",
     "output_type": "stream",
     "text": [
      "Now let's try to find age of both alive and deceased polish laureates\n",
      "\n",
      "{'firstname': 'Georges', 'surname': 'Charpak', 'bornCountry': 'Poland', 'vitalStatus': 'deceased', 'age': 86.0}\n",
      "{'firstname': 'Roald', 'surname': 'Hoffmann', 'bornCountry': 'Poland (now Ukraine)', 'vitalStatus': 'alive', 'age': 84.0}\n",
      "{'firstname': 'Tadeus', 'surname': 'Reichstein', 'bornCountry': 'Poland', 'vitalStatus': 'deceased', 'age': 99.0}\n",
      "{'firstname': 'Andrew V.', 'surname': 'Schally', 'bornCountry': 'Poland (now Lithuania)', 'vitalStatus': 'alive', 'age': 95.0}\n",
      "{'firstname': 'Lech', 'surname': 'Walesa', 'bornCountry': 'Poland', 'vitalStatus': 'alive', 'age': 78.0}\n",
      "{'firstname': 'Shimon', 'surname': 'Peres', 'bornCountry': 'Poland (now Belarus)', 'vitalStatus': 'deceased', 'age': 93.0}\n",
      "{'firstname': 'Henryk', 'surname': 'Sienkiewicz', 'bornCountry': 'Poland', 'vitalStatus': 'deceased', 'age': 70.0}\n",
      "{'firstname': 'Wislawa', 'surname': 'Szymborska', 'bornCountry': 'Poland', 'vitalStatus': 'deceased', 'age': 88.0}\n",
      "{'firstname': 'Olga', 'surname': 'Tokarczuk', 'bornCountry': 'Poland', 'vitalStatus': 'alive', 'age': 60.0}\n"
     ]
    }
   ],
   "source": [
    "print('Now let\\'s try to find age of both alive and deceased polish laureates')\n",
    "print('')\n",
    "\n",
    "pipeline = [{'$match': {'bornCountry': {'$regex': '^Poland'}}},\n",
    "            {'$addFields': {'died_date': {'$dateFromString': {'dateString': {'$cond': {'if': {'$eq': ['$died', '0000-00-00']}, 'then': current_time, 'else': '$died'}}}},\n",
    "                            'born_date': {'$dateFromString': {'dateString': '$born'}}, 'today': {'$dateFromString': {'dateString': current_time}},\n",
    "            'vitalStatus': {'$cond': {'if': {'$eq': ['$died', '0000-00-00']}, 'then': 'alive', 'else': 'deceased'}}}},\n",
    "            {'$project': {'firstname': 1, 'surname': 1, 'bornCountry': 1, '_id': 0, 'vitalStatus': 1, 'age': {'$floor': {'$divide': [{'$subtract': ['$died_date', '$born_date']}, 31557600000]}}}}]\n",
    "cursor = db.laureates.aggregate(pipeline)\n",
    "\n",
    "for document in cursor:\n",
    "    print(document)"
   ]
  },
  {
   "cell_type": "markdown",
   "id": "ce9c1ec9",
   "metadata": {},
   "source": [
    "<b>What is the nationality of Marie Curie Skłodowska?</b>"
   ]
  },
  {
   "cell_type": "code",
   "execution_count": 22,
   "id": "d4f5aae8",
   "metadata": {},
   "outputs": [
    {
     "name": "stdout",
     "output_type": "stream",
     "text": [
      "What is the nationality of Marie Curie Skłodowska?\n",
      "\n",
      "{'_id': ObjectId('6238db184fafdb6f26002aed'), 'id': '6', 'firstname': 'Marie', 'surname': 'Curie', 'born': '1867-11-07', 'died': '1934-07-04', 'bornCountry': 'Russian Empire (now Poland)', 'bornCountryCode': 'PL', 'bornCity': 'Warsaw', 'diedCountry': 'France', 'diedCountryCode': 'FR', 'diedCity': 'Sallanches', 'gender': 'female', 'prizes': [{'year': '1903', 'category': 'physics', 'share': '4', 'motivation': '\"in recognition of the extraordinary services they have rendered by their joint researches on the radiation phenomena discovered by Professor Henri Becquerel\"', 'affiliations': [[]]}, {'year': '1911', 'category': 'chemistry', 'share': '1', 'motivation': '\"in recognition of her services to the advancement of chemistry by the discovery of the elements radium and polonium, by the isolation of radium and the study of the nature and compounds of this remarkable element\"', 'affiliations': [{'name': 'Sorbonne University', 'city': 'Paris', 'country': 'France'}]}]}\n"
     ]
    }
   ],
   "source": [
    "print('What is the nationality of Marie Curie Skłodowska?')\n",
    "print('')\n",
    "\n",
    "pipeline = [{'$match': {'firstname':'Marie','surname':'Curie'}}]\n",
    "\n",
    "\n",
    "cursor = db.laureates.aggregate(pipeline)\n",
    "\n",
    "for document in cursor:\n",
    "    print(document)"
   ]
  },
  {
   "cell_type": "code",
   "execution_count": 35,
   "id": "d9305823",
   "metadata": {},
   "outputs": [
    {
     "name": "stdout",
     "output_type": "stream",
     "text": [
      "{'_id': ObjectId('6238db184fafdb6f26002aed'), 'firstname': 'Marie', 'surname': 'Curie', 'prizes': [{'year': '1903', 'category': 'physics', 'share': '4', 'motivation': '\"in recognition of the extraordinary services they have rendered by their joint researches on the radiation phenomena discovered by Professor Henri Becquerel\"', 'affiliations': [[]]}, {'year': '1911', 'category': 'chemistry', 'share': '1', 'motivation': '\"in recognition of her services to the advancement of chemistry by the discovery of the elements radium and polonium, by the isolation of radium and the study of the nature and compounds of this remarkable element\"', 'affiliations': [{'name': 'Sorbonne University', 'city': 'Paris', 'country': 'France'}]}]}\n"
     ]
    }
   ],
   "source": [
    "pipeline = [{'$match': {'firstname': 'Marie'}},\n",
    "            {'$project':{'firstname':1,'surname':1, 'prizes':1}},\n",
    "            {'$limit':1}]\n",
    "\n",
    "cursor = db.laureates.aggregate(pipeline)\n",
    "\n",
    "for document in cursor:\n",
    "    print(document)"
   ]
  },
  {
   "cell_type": "code",
   "execution_count": 36,
   "id": "a6ed31f5",
   "metadata": {},
   "outputs": [
    {
     "name": "stdout",
     "output_type": "stream",
     "text": [
      "{'_id': ObjectId('6238db184fafdb6f26002aed'), 'firstname': 'Marie', 'surname': 'Curie', 'prizes': {'year': '1903', 'category': 'physics', 'share': '4', 'motivation': '\"in recognition of the extraordinary services they have rendered by their joint researches on the radiation phenomena discovered by Professor Henri Becquerel\"', 'affiliations': [[]]}}\n",
      "{'_id': ObjectId('6238db184fafdb6f26002aed'), 'firstname': 'Marie', 'surname': 'Curie', 'prizes': {'year': '1911', 'category': 'chemistry', 'share': '1', 'motivation': '\"in recognition of her services to the advancement of chemistry by the discovery of the elements radium and polonium, by the isolation of radium and the study of the nature and compounds of this remarkable element\"', 'affiliations': [{'name': 'Sorbonne University', 'city': 'Paris', 'country': 'France'}]}}\n"
     ]
    }
   ],
   "source": [
    "pipeline = [{'$match': {'firstname': 'Marie'}},\n",
    "            {'$unwind': '$prizes'}, \n",
    "            {'$project':{'firstname':1,'surname':1, 'prizes':1}}]\n",
    "\n",
    "cursor = db.laureates.aggregate(pipeline)\n",
    "\n",
    "for document in cursor:\n",
    "    print(document)"
   ]
  },
  {
   "cell_type": "code",
   "execution_count": 48,
   "id": "0dbfacc6",
   "metadata": {},
   "outputs": [
    {
     "data": {
      "text/plain": [
       "[{'_id': {'firstname': 'Marie', 'surname': 'Curie'}, 'total_prizes': 2}]"
      ]
     },
     "execution_count": 48,
     "metadata": {},
     "output_type": "execute_result"
    }
   ],
   "source": [
    "list(db.laureates.aggregate([\n",
    "    {'$match': {'firstname': 'Marie','surname': 'Curie'}},\n",
    "    {'$project': {'n_prizes': {'$size': '$prizes'}, 'firstname':1, 'surname':1}},\n",
    "    {'$group': {'_id': {'firstname': '$firstname','surname':'$surname'}, 'total_prizes': {'$sum': '$n_prizes'}}}\n",
    "]))"
   ]
  },
  {
   "cell_type": "code",
   "execution_count": null,
   "id": "e60fafb7",
   "metadata": {},
   "outputs": [],
   "source": []
  }
 ],
 "metadata": {
  "kernelspec": {
   "display_name": "Python 3 (ipykernel)",
   "language": "python",
   "name": "python3"
  },
  "language_info": {
   "codemirror_mode": {
    "name": "ipython",
    "version": 3
   },
   "file_extension": ".py",
   "mimetype": "text/x-python",
   "name": "python",
   "nbconvert_exporter": "python",
   "pygments_lexer": "ipython3",
   "version": "3.9.7"
  }
 },
 "nbformat": 4,
 "nbformat_minor": 5
}
